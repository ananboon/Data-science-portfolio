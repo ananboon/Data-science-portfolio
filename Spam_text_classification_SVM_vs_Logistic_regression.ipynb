{
  "nbformat": 4,
  "nbformat_minor": 0,
  "metadata": {
    "colab": {
      "name": "Spam text classification SVM vs Logistic regression.ipynb",
      "provenance": [],
      "collapsed_sections": [],
      "toc_visible": true,
      "authorship_tag": "ABX9TyNGHy0LY1HSHnXlBSk0TDLW",
      "include_colab_link": true
    },
    "kernelspec": {
      "name": "python3",
      "display_name": "Python 3"
    }
  },
  "cells": [
    {
      "cell_type": "markdown",
      "metadata": {
        "id": "view-in-github",
        "colab_type": "text"
      },
      "source": [
        "<a href=\"https://colab.research.google.com/github/ananboon/Data-science-portfolio/blob/main/Spam_text_classification_SVM_vs_Logistic_regression.ipynb\" target=\"_parent\"><img src=\"https://colab.research.google.com/assets/colab-badge.svg\" alt=\"Open In Colab\"/></a>"
      ]
    },
    {
      "cell_type": "markdown",
      "metadata": {
        "id": "DVYKQMzXfj2B"
      },
      "source": [
        "# Load dataset from kaggle\n",
        "\n",
        "https://www.kaggle.com/team-ai/spam-text-message-classification"
      ]
    },
    {
      "cell_type": "code",
      "metadata": {
        "id": "WdZE-KWnmPmK"
      },
      "source": [
        "import os\n",
        "os.environ['KAGGLE_CONFIG_DIR'] = '/content'"
      ],
      "execution_count": null,
      "outputs": []
    },
    {
      "cell_type": "code",
      "metadata": {
        "id": "P87s2ceXg_6Y"
      },
      "source": [
        "! pip install -q kaggle"
      ],
      "execution_count": null,
      "outputs": []
    },
    {
      "cell_type": "code",
      "metadata": {
        "id": "k2TEcpiDrui3"
      },
      "source": [
        "! chmod 600 kaggle.json"
      ],
      "execution_count": null,
      "outputs": []
    },
    {
      "cell_type": "code",
      "metadata": {
        "colab": {
          "base_uri": "https://localhost:8080/"
        },
        "id": "-13Zn3Y9jI0l",
        "outputId": "5ede4fb1-a28d-4145-ce4c-0a1b00db241d"
      },
      "source": [
        "! kaggle datasets download -d team-ai/spam-text-message-classification"
      ],
      "execution_count": null,
      "outputs": [
        {
          "output_type": "stream",
          "text": [
            "Downloading spam-text-message-classification.zip to /content\n",
            "\r  0% 0.00/208k [00:00<?, ?B/s]\n",
            "\r100% 208k/208k [00:00<00:00, 30.8MB/s]\n"
          ],
          "name": "stdout"
        }
      ]
    },
    {
      "cell_type": "code",
      "metadata": {
        "colab": {
          "base_uri": "https://localhost:8080/"
        },
        "id": "QvOGLSRTvdIz",
        "outputId": "13ec6e70-70a7-4d50-c9a5-b57383e9595a"
      },
      "source": [
        "!unzip spam-text-message-classification.zip -d data"
      ],
      "execution_count": null,
      "outputs": [
        {
          "output_type": "stream",
          "text": [
            "Archive:  spam-text-message-classification.zip\n",
            "  inflating: data/SPAM text message 20170820 - Data.csv  \n"
          ],
          "name": "stdout"
        }
      ]
    },
    {
      "cell_type": "code",
      "metadata": {
        "id": "p2wTUU_z0rba"
      },
      "source": [
        "import matplotlib.pyplot as plt\n",
        "import numpy as np\n",
        "import pandas as pd\n",
        "from sklearn.preprocessing import LabelEncoder\n",
        "from sklearn.feature_extraction.text import TfidfVectorizer\n",
        "from sklearn.model_selection import train_test_split,cross_val_score\n",
        "from sklearn.linear_model import LogisticRegression\n",
        "from sklearn import svm\n",
        "from sklearn.metrics import accuracy_score,confusion_matrix,f1_score, precision_score, recall_score"
      ],
      "execution_count": null,
      "outputs": []
    },
    {
      "cell_type": "markdown",
      "metadata": {
        "id": "Oa7NsIz2fUy4"
      },
      "source": [
        "\n",
        "\n",
        "# Read data into dataframe and observe the data"
      ]
    },
    {
      "cell_type": "code",
      "metadata": {
        "id": "ECX5wWLS1jmC"
      },
      "source": [
        "df = pd.read_csv('data/SPAM_TEXT.csv')"
      ],
      "execution_count": null,
      "outputs": []
    },
    {
      "cell_type": "code",
      "metadata": {
        "colab": {
          "base_uri": "https://localhost:8080/",
          "height": 204
        },
        "id": "8p7cTHAc2Gbc",
        "outputId": "0f1a6ab0-18a6-4143-9565-55e7dfa1f023"
      },
      "source": [
        "df.head()"
      ],
      "execution_count": null,
      "outputs": [
        {
          "output_type": "execute_result",
          "data": {
            "text/html": [
              "<div>\n",
              "<style scoped>\n",
              "    .dataframe tbody tr th:only-of-type {\n",
              "        vertical-align: middle;\n",
              "    }\n",
              "\n",
              "    .dataframe tbody tr th {\n",
              "        vertical-align: top;\n",
              "    }\n",
              "\n",
              "    .dataframe thead th {\n",
              "        text-align: right;\n",
              "    }\n",
              "</style>\n",
              "<table border=\"1\" class=\"dataframe\">\n",
              "  <thead>\n",
              "    <tr style=\"text-align: right;\">\n",
              "      <th></th>\n",
              "      <th>Category</th>\n",
              "      <th>Message</th>\n",
              "    </tr>\n",
              "  </thead>\n",
              "  <tbody>\n",
              "    <tr>\n",
              "      <th>0</th>\n",
              "      <td>ham</td>\n",
              "      <td>Go until jurong point, crazy.. Available only ...</td>\n",
              "    </tr>\n",
              "    <tr>\n",
              "      <th>1</th>\n",
              "      <td>ham</td>\n",
              "      <td>Ok lar... Joking wif u oni...</td>\n",
              "    </tr>\n",
              "    <tr>\n",
              "      <th>2</th>\n",
              "      <td>spam</td>\n",
              "      <td>Free entry in 2 a wkly comp to win FA Cup fina...</td>\n",
              "    </tr>\n",
              "    <tr>\n",
              "      <th>3</th>\n",
              "      <td>ham</td>\n",
              "      <td>U dun say so early hor... U c already then say...</td>\n",
              "    </tr>\n",
              "    <tr>\n",
              "      <th>4</th>\n",
              "      <td>ham</td>\n",
              "      <td>Nah I don't think he goes to usf, he lives aro...</td>\n",
              "    </tr>\n",
              "  </tbody>\n",
              "</table>\n",
              "</div>"
            ],
            "text/plain": [
              "  Category                                            Message\n",
              "0      ham  Go until jurong point, crazy.. Available only ...\n",
              "1      ham                      Ok lar... Joking wif u oni...\n",
              "2     spam  Free entry in 2 a wkly comp to win FA Cup fina...\n",
              "3      ham  U dun say so early hor... U c already then say...\n",
              "4      ham  Nah I don't think he goes to usf, he lives aro..."
            ]
          },
          "metadata": {
            "tags": []
          },
          "execution_count": 35
        }
      ]
    },
    {
      "cell_type": "code",
      "metadata": {
        "colab": {
          "base_uri": "https://localhost:8080/"
        },
        "id": "hKz_0r4G2OIl",
        "outputId": "9e72572b-24bc-4639-ce24-1b9c3925126d"
      },
      "source": [
        "df.info()"
      ],
      "execution_count": null,
      "outputs": [
        {
          "output_type": "stream",
          "text": [
            "<class 'pandas.core.frame.DataFrame'>\n",
            "RangeIndex: 5572 entries, 0 to 5571\n",
            "Data columns (total 2 columns):\n",
            " #   Column    Non-Null Count  Dtype \n",
            "---  ------    --------------  ----- \n",
            " 0   Category  5572 non-null   object\n",
            " 1   Message   5572 non-null   object\n",
            "dtypes: object(2)\n",
            "memory usage: 87.2+ KB\n"
          ],
          "name": "stdout"
        }
      ]
    },
    {
      "cell_type": "code",
      "metadata": {
        "colab": {
          "base_uri": "https://localhost:8080/"
        },
        "id": "u9wIbmW_QBf_",
        "outputId": "aec594fd-0923-4a0d-d9a9-427eb79f1e67"
      },
      "source": [
        "df.Category.value_counts()"
      ],
      "execution_count": null,
      "outputs": [
        {
          "output_type": "execute_result",
          "data": {
            "text/plain": [
              "ham     4825\n",
              "spam     747\n",
              "Name: Category, dtype: int64"
            ]
          },
          "metadata": {
            "tags": []
          },
          "execution_count": 99
        }
      ]
    },
    {
      "cell_type": "markdown",
      "metadata": {
        "id": "6lzCj8iviDAD"
      },
      "source": [
        "# Proprocessing data\n",
        "- shulffle\n",
        "- encode label"
      ]
    },
    {
      "cell_type": "code",
      "metadata": {
        "id": "jpX4zc7u24B_"
      },
      "source": [
        "# shuffle data\n",
        "df = df.sample(frac=1).reset_index(drop=True)"
      ],
      "execution_count": null,
      "outputs": []
    },
    {
      "cell_type": "code",
      "metadata": {
        "id": "N-6RxGl234YQ"
      },
      "source": [
        "x = df['Message']\n",
        "y = df['Category']"
      ],
      "execution_count": null,
      "outputs": []
    },
    {
      "cell_type": "code",
      "metadata": {
        "colab": {
          "base_uri": "https://localhost:8080/"
        },
        "id": "77N-USjm4uwq",
        "outputId": "4732331a-9ca2-4c37-c14f-2f8e9b382990"
      },
      "source": [
        "#  Encode label\n",
        "le = LabelEncoder().fit(['ham','spam'])\n",
        "print(le.classes_)\n",
        "Y = le.transform(y)"
      ],
      "execution_count": null,
      "outputs": [
        {
          "output_type": "stream",
          "text": [
            "['ham' 'spam']\n"
          ],
          "name": "stdout"
        }
      ]
    },
    {
      "cell_type": "markdown",
      "metadata": {
        "id": "NkxOSEBEf_jx"
      },
      "source": [
        "# Feature extraction\n",
        "\n",
        "- convert text into vector"
      ]
    },
    {
      "cell_type": "code",
      "metadata": {
        "id": "lzKSIij_5CcN"
      },
      "source": [
        "tfidf = TfidfVectorizer().fit_transform(x)"
      ],
      "execution_count": null,
      "outputs": []
    },
    {
      "cell_type": "markdown",
      "metadata": {
        "id": "dsdnLdWzgzuz"
      },
      "source": [
        "# Split data into training and test set"
      ]
    },
    {
      "cell_type": "code",
      "metadata": {
        "id": "p8-2iMLN5JsK"
      },
      "source": [
        "x_train,x_test,y_train,y_test = train_test_split(tfidf, Y, test_size=0.2, random_state=42)"
      ],
      "execution_count": null,
      "outputs": []
    },
    {
      "cell_type": "markdown",
      "metadata": {
        "id": "Y1zo52yVk264"
      },
      "source": [
        "# Helper functions"
      ]
    },
    {
      "cell_type": "code",
      "metadata": {
        "id": "RuPt7ZMlk5Kw"
      },
      "source": [
        "def eval_model(y,y_predict):\n",
        "  eval = {\n",
        "      'accuracy' : accuracy_score(y,y_predict),\n",
        "      'precision' : precision_score(y,y_predict),\n",
        "      'recall' : recall_score(y,y_predict),\n",
        "      'f1' : f1_score(y,y_predict)\n",
        "  }\n",
        "  return eval"
      ],
      "execution_count": null,
      "outputs": []
    },
    {
      "cell_type": "markdown",
      "metadata": {
        "id": "FRnRZwIwfuva"
      },
      "source": [
        "# Logistic Regression"
      ]
    },
    {
      "cell_type": "code",
      "metadata": {
        "colab": {
          "base_uri": "https://localhost:8080/"
        },
        "id": "USaPSZ6nEl-N",
        "outputId": "5e124c95-b09e-4b2c-d959-e93ec3306d6e"
      },
      "source": [
        "logistic_model =  LogisticRegression().fit(x_train, y_train)\n",
        "print('model Score: ', logistic_model.score(x_train, y_train))"
      ],
      "execution_count": null,
      "outputs": [
        {
          "output_type": "stream",
          "text": [
            "model Score:  0.9750953556203724\n"
          ],
          "name": "stdout"
        }
      ]
    },
    {
      "cell_type": "code",
      "metadata": {
        "colab": {
          "base_uri": "https://localhost:8080/"
        },
        "id": "wgwq8JV1Ex-X",
        "outputId": "ea129026-025d-4407-c06c-eb64455834f0"
      },
      "source": [
        "# make prediction\n",
        "prediction = logistic_model.predict(x_test)\n",
        "evaluation = eval_model(y_test,prediction)\n",
        "print('evaluation :',evaluation)\n"
      ],
      "execution_count": null,
      "outputs": [
        {
          "output_type": "stream",
          "text": [
            "evaluation : {'accuracy': 0.9659192825112107, 'precision': 0.9921875, 'recall': 0.774390243902439, 'f1': 0.8698630136986301}\n"
          ],
          "name": "stdout"
        }
      ]
    },
    {
      "cell_type": "markdown",
      "metadata": {
        "id": "sK1OCCdrhDKd"
      },
      "source": [
        "# SVM"
      ]
    },
    {
      "cell_type": "code",
      "metadata": {
        "colab": {
          "base_uri": "https://localhost:8080/"
        },
        "id": "qyrS9VcvhFud",
        "outputId": "71981e64-5516-419d-ffdc-d6b199bf615b"
      },
      "source": [
        "SVM_model = svm.SVC().fit(x_train,y_train)\n",
        "print('SVM model Score: ', SVM_model.score(x_train, y_train))\n"
      ],
      "execution_count": null,
      "outputs": [
        {
          "output_type": "stream",
          "text": [
            "SVM model Score:  0.9977563383441777\n"
          ],
          "name": "stdout"
        }
      ]
    },
    {
      "cell_type": "code",
      "metadata": {
        "colab": {
          "base_uri": "https://localhost:8080/"
        },
        "id": "X8hUFERGr_iC",
        "outputId": "bb2e8fd3-093e-402c-b92a-563f01b2f7d0"
      },
      "source": [
        "prediction = SVM_model.predict(x_test)\n",
        "evaluation = eval_model(y_test,prediction)\n",
        "print('evaluation :',evaluation)"
      ],
      "execution_count": null,
      "outputs": [
        {
          "output_type": "stream",
          "text": [
            "evaluation : {'accuracy': 0.9802690582959641, 'precision': 1.0, 'recall': 0.8658536585365854, 'f1': 0.9281045751633987}\n"
          ],
          "name": "stdout"
        }
      ]
    }
  ]
}